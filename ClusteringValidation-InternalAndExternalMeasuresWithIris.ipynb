{
 "cells": [
  {
   "cell_type": "markdown",
   "metadata": {},
   "source": [
    "# Example of Clustering Validation using External Measures\n",
    "In this example, we apply hierarchical clustering to the input variables of the Iris dataset. Then, we evaluate the solution using internal measures (by computing WSS and BSS) and external measures (by comparing the labels assigned by the clustering with the known labels).\n",
    "\n",
    "We begin by importing the needed libraries."
   ]
  },
  {
   "cell_type": "code",
   "execution_count": 1,
   "metadata": {},
   "outputs": [],
   "source": [
    "import numpy as np\n",
    "import pandas as pd\n",
    "import matplotlib.pyplot as plt\n",
    "%matplotlib inline\n",
    "from sklearn import datasets\n",
    "from scipy.cluster.hierarchy import dendrogram, linkage, fcluster\n",
    "from scipy.spatial.distance import cdist, pdist\n",
    "\n",
    "np.set_printoptions(precision=5, suppress=True)  # suppress scientific float notation"
   ]
  },
  {
   "cell_type": "markdown",
   "metadata": {},
   "source": [
    "We load the Iris data set and print some statistics."
   ]
  },
  {
   "cell_type": "raw",
   "metadata": {},
   "source": []
  },
  {
   "cell_type": "code",
   "execution_count": 102,
   "metadata": {},
   "outputs": [
    {
     "name": "stdout",
     "output_type": "stream",
     "text": [
      "[0 0 0 0 0 0 0 0 0 0 0 0 0 0 0 0 0 0 0 0 0 0 0 0 0 0 0 0 0 0 0 0 0 0 0 0 0\n",
      " 0 0 0 0 0 0 0 0 0 0 0 0 0 1 1 1 1 1 1 1 1 1 1 1 1 1 1 1 1 1 1 1 1 1 1 1 1\n",
      " 1 1 1 1 1 1 1 1 1 1 1 1 1 1 1 1 1 1 1 1 1 1 1 1 1 1 2 2 2 2 2 2 2 2 2 2 2\n",
      " 2 2 2 2 2 2 2 2 2 2 2 2 2 2 2 2 2 2 2 2 2 2 2 2 2 2 2 2 2 2 2 2 2 2 2 2 2\n",
      " 2 2]\n",
      "Number of examples:  150\n",
      "Number of variables: 4\n",
      "Variable names:      ['sepal length (cm)', 'sepal width (cm)', 'petal length (cm)', 'petal width (cm)']\n",
      "Target values:       ['setosa' 'versicolor' 'virginica']\n",
      "Class Distribution   [(0, 50), (1, 50), (2, 50)]\n"
     ]
    },
    {
     "data": {
      "text/plain": [
       "array(['setosa', 'setosa', 'setosa', 'setosa', 'setosa', 'setosa',\n",
       "       'setosa', 'setosa', 'setosa', 'setosa', 'setosa', 'setosa',\n",
       "       'setosa', 'setosa', 'setosa', 'setosa', 'setosa', 'setosa',\n",
       "       'setosa', 'setosa', 'setosa', 'setosa', 'setosa', 'setosa',\n",
       "       'setosa', 'setosa', 'setosa', 'setosa', 'setosa', 'setosa',\n",
       "       'setosa', 'setosa', 'setosa', 'setosa', 'setosa', 'setosa',\n",
       "       'setosa', 'setosa', 'setosa', 'setosa', 'setosa', 'setosa',\n",
       "       'setosa', 'setosa', 'setosa', 'setosa', 'setosa', 'setosa',\n",
       "       'setosa', 'setosa', 'versicolor', 'versicolor', 'versicolor',\n",
       "       'versicolor', 'versicolor', 'versicolor', 'versicolor',\n",
       "       'versicolor', 'versicolor', 'versicolor', 'versicolor',\n",
       "       'versicolor', 'versicolor', 'versicolor', 'versicolor',\n",
       "       'versicolor', 'versicolor', 'versicolor', 'versicolor',\n",
       "       'versicolor', 'versicolor', 'versicolor', 'versicolor',\n",
       "       'versicolor', 'versicolor', 'versicolor', 'versicolor',\n",
       "       'versicolor', 'versicolor', 'versicolor', 'versicolor',\n",
       "       'versicolor', 'versicolor', 'versicolor', 'versicolor',\n",
       "       'versicolor', 'versicolor', 'versicolor', 'versicolor',\n",
       "       'versicolor', 'versicolor', 'versicolor', 'versicolor',\n",
       "       'versicolor', 'versicolor', 'versicolor', 'versicolor',\n",
       "       'versicolor', 'versicolor', 'versicolor', 'virginica', 'virginica',\n",
       "       'virginica', 'virginica', 'virginica', 'virginica', 'virginica',\n",
       "       'virginica', 'virginica', 'virginica', 'virginica', 'virginica',\n",
       "       'virginica', 'virginica', 'virginica', 'virginica', 'virginica',\n",
       "       'virginica', 'virginica', 'virginica', 'virginica', 'virginica',\n",
       "       'virginica', 'virginica', 'virginica', 'virginica', 'virginica',\n",
       "       'virginica', 'virginica', 'virginica', 'virginica', 'virginica',\n",
       "       'virginica', 'virginica', 'virginica', 'virginica', 'virginica',\n",
       "       'virginica', 'virginica', 'virginica', 'virginica', 'virginica',\n",
       "       'virginica', 'virginica', 'virginica', 'virginica', 'virginica',\n",
       "       'virginica', 'virginica', 'virginica'], dtype='<U10')"
      ]
     },
     "execution_count": 102,
     "metadata": {},
     "output_type": "execute_result"
    }
   ],
   "source": [
    "iris = datasets.load_iris()\n",
    "target = np.array(iris.target)\n",
    "print(target)\n",
    "print(\"Number of examples: \", iris.data.shape[0]) #ROW SAYISI VERİR\n",
    "print(\"Number of variables:\", iris.data.shape[1])\n",
    "print(\"Variable names:     \", iris.feature_names)\n",
    "print(\"Target values:      \", iris.target_names)\n",
    "print(\"Class Distribution  \", [(x,sum(target==x)) for x in np.unique(target)])\n",
    "iris.target_names[target]"
   ]
  },
  {
   "cell_type": "markdown",
   "metadata": {},
   "source": [
    "We apply hierarchical clustering using single linkage. Given that there are 150 cases, we have 149 merges."
   ]
  },
  {
   "cell_type": "code",
   "execution_count": 52,
   "metadata": {},
   "outputs": [
    {
     "data": {
      "text/plain": [
       "array([[101.     , 142.     ,   0.     ,   2.     ],\n",
       "       [  7.     ,  39.     ,   0.1    ,   2.     ],\n",
       "       [  0.     ,  17.     ,   0.1    ,   2.     ],\n",
       "       [  9.     ,  34.     ,   0.1    ,   2.     ],\n",
       "       [128.     , 132.     ,   0.1    ,   2.     ],\n",
       "       [ 10.     ,  48.     ,   0.1    ,   2.     ],\n",
       "       [ 40.     , 152.     ,   0.14142,   3.     ],\n",
       "       [  4.     ,  37.     ,   0.14142,   2.     ],\n",
       "       [ 19.     ,  21.     ,   0.14142,   2.     ],\n",
       "       [156.     , 157.     ,   0.14142,   5.     ],\n",
       "       [ 29.     ,  30.     ,   0.14142,   2.     ],\n",
       "       [ 57.     ,  93.     ,   0.14142,   2.     ],\n",
       "       [ 80.     ,  81.     ,   0.14142,   2.     ],\n",
       "       [116.     , 137.     ,   0.14142,   2.     ],\n",
       "       [  8.     ,  38.     ,   0.14142,   2.     ],\n",
       "       [ 46.     , 158.     ,   0.14142,   3.     ],\n",
       "       [151.     , 159.     ,   0.14142,   7.     ],\n",
       "       [ 49.     , 166.     ,   0.14142,   8.     ],\n",
       "       [ 27.     ,  28.     ,   0.14142,   2.     ],\n",
       "       [  1.     , 153.     ,   0.14142,   3.     ],\n",
       "       [  3.     ,  47.     ,   0.14142,   2.     ],\n",
       "       [ 82.     ,  92.     ,   0.14142,   2.     ],\n",
       "       [ 95.     ,  96.     ,   0.14142,   2.     ],\n",
       "       [127.     , 138.     ,   0.14142,   2.     ],\n",
       "       [  2.     , 170.     ,   0.14142,   3.     ],\n",
       "       [ 45.     , 169.     ,   0.14142,   4.     ],\n",
       "       [ 12.     , 175.     ,   0.14142,   5.     ],\n",
       "       [167.     , 168.     ,   0.14142,  10.     ],\n",
       "       [160.     , 176.     ,   0.14142,   7.     ],\n",
       "       [ 99.     , 172.     ,   0.14142,   3.     ],\n",
       "       [ 63.     ,  91.     ,   0.14142,   2.     ],\n",
       "       [ 65.     ,  75.     ,   0.14142,   2.     ],\n",
       "       [ 25.     , 178.     ,   0.17321,   8.     ],\n",
       "       [ 69.     , 162.     ,   0.17321,   3.     ],\n",
       "       [123.     , 126.     ,   0.17321,   2.     ],\n",
       "       [112.     , 139.     ,   0.17321,   2.     ],\n",
       "       [174.     , 182.     ,   0.17321,  11.     ],\n",
       "       [ 94.     , 179.     ,   0.17321,   4.     ],\n",
       "       [ 88.     , 187.     ,   0.17321,   5.     ],\n",
       "       [ 66.     ,  84.     ,   0.2    ,   2.     ],\n",
       "       [ 78.     , 180.     ,   0.2    ,   3.     ],\n",
       "       [ 23.     ,  26.     ,   0.2    ,   2.     ],\n",
       "       [ 42.     , 164.     ,   0.2    ,   3.     ],\n",
       "       [ 53.     ,  89.     ,   0.2    ,   2.     ],\n",
       "       [ 74.     ,  97.     ,   0.2    ,   2.     ],\n",
       "       [186.     , 192.     ,   0.22361,  14.     ],\n",
       "       [ 11.     , 195.     ,   0.22361,  15.     ],\n",
       "       [  6.     , 196.     ,   0.22361,  16.     ],\n",
       "       [ 35.     , 177.     ,   0.22361,  11.     ],\n",
       "       [155.     , 198.     ,   0.22361,  13.     ],\n",
       "       [ 43.     , 191.     ,   0.22361,   3.     ],\n",
       "       [ 73.     , 190.     ,   0.22361,   4.     ],\n",
       "       [ 70.     , 173.     ,   0.22361,   3.     ],\n",
       "       [199.     , 200.     ,   0.22361,  16.     ],\n",
       "       [197.     , 203.     ,   0.22361,  32.     ],\n",
       "       [110.     , 147.     ,   0.22361,   2.     ],\n",
       "       [120.     , 143.     ,   0.22361,   2.     ],\n",
       "       [136.     , 148.     ,   0.24495,   2.     ],\n",
       "       [ 58.     , 181.     ,   0.24495,   3.     ],\n",
       "       [183.     , 193.     ,   0.24495,   5.     ],\n",
       "       [ 67.     , 171.     ,   0.24495,   3.     ],\n",
       "       [ 54.     , 208.     ,   0.24495,   4.     ],\n",
       "       [146.     , 184.     ,   0.24495,   3.     ],\n",
       "       [165.     , 204.     ,   0.24495,  35.     ],\n",
       "       [103.     , 163.     ,   0.24495,   3.     ],\n",
       "       [140.     , 144.     ,   0.24495,   2.     ],\n",
       "       [ 13.     , 213.     ,   0.24495,  36.     ],\n",
       "       [141.     , 145.     ,   0.24495,   2.     ],\n",
       "       [202.     , 212.     ,   0.24495,   6.     ],\n",
       "       [188.     , 210.     ,   0.26458,   8.     ],\n",
       "       [ 68.     ,  87.     ,   0.26458,   2.     ],\n",
       "       [194.     , 211.     ,   0.26458,   6.     ],\n",
       "       [113.     , 150.     ,   0.26458,   3.     ],\n",
       "       [ 90.     , 219.     ,   0.26458,   9.     ],\n",
       "       [ 50.     ,  52.     ,   0.26458,   2.     ],\n",
       "       [209.     , 223.     ,   0.26458,  14.     ],\n",
       "       [ 51.     ,  56.     ,   0.26458,   2.     ],\n",
       "       [107.     , 130.     ,   0.26458,   2.     ],\n",
       "       [206.     , 215.     ,   0.26458,   4.     ],\n",
       "       [105.     , 122.     ,   0.26458,   2.     ],\n",
       "       [149.     , 218.     ,   0.28284,   7.     ],\n",
       "       [ 20.     ,  31.     ,   0.28284,   2.     ],\n",
       "       [ 86.     , 224.     ,   0.28284,   3.     ],\n",
       "       [ 24.     , 216.     ,   0.3    ,  37.     ],\n",
       "       [124.     , 228.     ,   0.3    ,   5.     ],\n",
       "       [ 36.     , 233.     ,   0.3    ,  38.     ],\n",
       "       [231.     , 235.     ,   0.3    ,  40.     ],\n",
       "       [ 61.     , 225.     ,   0.3    ,  15.     ],\n",
       "       [115.     , 207.     ,   0.3    ,   3.     ],\n",
       "       [104.     , 154.     ,   0.3    ,   3.     ],\n",
       "       [ 55.     , 189.     ,   0.3    ,   3.     ],\n",
       "       [221.     , 226.     ,   0.31623,   8.     ],\n",
       "       [121.     , 222.     ,   0.31623,   4.     ],\n",
       "       [237.     , 240.     ,   0.31623,  18.     ],\n",
       "       [232.     , 241.     ,   0.31623,  11.     ],\n",
       "       [ 77.     , 244.     ,   0.31623,  12.     ],\n",
       "       [ 76.     , 245.     ,   0.31623,  13.     ],\n",
       "       [201.     , 243.     ,   0.33166,  22.     ],\n",
       "       [ 83.     , 133.     ,   0.33166,   2.     ],\n",
       "       [  5.     ,  18.     ,   0.33166,   2.     ],\n",
       "       [230.     , 242.     ,   0.33166,  11.     ],\n",
       "       [ 71.     , 246.     ,   0.33166,  14.     ],\n",
       "       [214.     , 239.     ,   0.33166,   6.     ],\n",
       "       [111.     , 205.     ,   0.34641,   3.     ],\n",
       "       [185.     , 234.     ,   0.34641,   7.     ],\n",
       "       [236.     , 249.     ,   0.34641,  42.     ],\n",
       "       [ 16.     , 255.     ,   0.34641,  43.     ],\n",
       "       [247.     , 251.     ,   0.34641,  36.     ],\n",
       "       [ 32.     , 256.     ,   0.34641,  44.     ],\n",
       "       [ 33.     , 258.     ,   0.34641,  45.     ],\n",
       "       [125.     , 129.     ,   0.34641,   2.     ],\n",
       "       [ 79.     , 257.     ,   0.34641,  37.     ],\n",
       "       [ 72.     , 248.     ,   0.36056,   3.     ],\n",
       "       [ 44.     , 259.     ,   0.36056,  46.     ],\n",
       "       [252.     , 253.     ,   0.36056,   9.     ],\n",
       "       [ 60.     , 161.     ,   0.36056,   3.     ],\n",
       "       [217.     , 264.     ,   0.36056,  11.     ],\n",
       "       [250.     , 262.     ,   0.36056,  14.     ],\n",
       "       [254.     , 266.     ,   0.36056,  18.     ],\n",
       "       [ 15.     , 263.     ,   0.36056,  47.     ],\n",
       "       [238.     , 268.     ,   0.37417,  21.     ],\n",
       "       [ 85.     , 261.     ,   0.37417,  38.     ],\n",
       "       [267.     , 270.     ,   0.37417,  35.     ],\n",
       "       [ 98.     , 265.     ,   0.3873 ,   4.     ],\n",
       "       [ 59.     , 271.     ,   0.3873 ,  39.     ],\n",
       "       [102.     , 260.     ,   0.3873 ,   3.     ],\n",
       "       [272.     , 275.     ,   0.4    ,  38.     ],\n",
       "       [118.     , 229.     ,   0.41231,   3.     ],\n",
       "       [ 14.     , 269.     ,   0.41231,  48.     ],\n",
       "       [117.     , 131.     ,   0.41231,   2.     ],\n",
       "       [274.     , 276.     ,   0.41231,  77.     ],\n",
       "       [ 64.     , 280.     ,   0.42426,  78.     ],\n",
       "       [100.     , 281.     ,   0.42426,  79.     ],\n",
       "       [119.     , 282.     ,   0.43589,  80.     ],\n",
       "       [227.     , 283.     ,   0.43589,  82.     ],\n",
       "       [ 22.     , 278.     ,   0.45826,  49.     ],\n",
       "       [114.     , 284.     ,   0.4899 ,  83.     ],\n",
       "       [ 62.     , 286.     ,   0.4899 ,  84.     ],\n",
       "       [220.     , 287.     ,   0.5099 ,  86.     ],\n",
       "       [277.     , 288.     ,   0.52915,  89.     ],\n",
       "       [135.     , 289.     ,   0.53852,  90.     ],\n",
       "       [134.     , 290.     ,   0.53852,  91.     ],\n",
       "       [108.     , 291.     ,   0.55678,  92.     ],\n",
       "       [ 41.     , 285.     ,   0.6245 ,  50.     ],\n",
       "       [109.     , 292.     ,   0.63246,  93.     ],\n",
       "       [273.     , 294.     ,   0.64807,  97.     ],\n",
       "       [106.     , 295.     ,   0.73485,  98.     ],\n",
       "       [279.     , 296.     ,   0.81854, 100.     ],\n",
       "       [293.     , 297.     ,   1.64012, 150.     ]])"
      ]
     },
     "execution_count": 52,
     "metadata": {},
     "output_type": "execute_result"
    }
   ],
   "source": [
    "merges = linkage(iris.data, method = 'single')\n",
    "merges\n",
    "#print('there have been %d merges'%(merges.shape[0]))"
   ]
  },
  {
   "cell_type": "markdown",
   "metadata": {},
   "source": [
    "Let's plot the dendrogram which shows two major clusters: a smaller one (in green) and a larger one."
   ]
  },
  {
   "cell_type": "code",
   "execution_count": 49,
   "metadata": {},
   "outputs": [
    {
     "data": {
      "image/png": "[encoded data removed]",
      "text/plain": [
       "<Figure size 1800x720 with 1 Axes>"
      ]
     },
     "metadata": {
      "needs_background": "light"
     },
     "output_type": "display_data"
    }
   ],
   "source": [
    "plt.figure(figsize=(25, 10))\n",
    "font = {'family' : 'sans', 'size'   : 18}\n",
    "plt.rc('font', **font)\n",
    "plt.title('Hierarchical Clustering Dendrogram')\n",
    "plt.xlabel('sample index')\n",
    "plt.ylabel('distance')\n",
    "dendrogram(merges, \n",
    "    leaf_rotation=90.,  # rotates the x axis labels\n",
    "    leaf_font_size=8.,  # font size for the x axis labels\n",
    ")\n",
    "plt.title('Dendrogram for Iris dataset')\n",
    "plt.xlabel('Sample Index')\n",
    "plt.ylabel('Distance')\n",
    "plt.show()"
   ]
  },
  {
   "cell_type": "markdown",
   "metadata": {},
   "source": [
    "## Internal Measures\n",
    "We evaluate the possible clustering by analyzing the withing sum of squares (WSS) and the between sum of squares of the different clustering solutions.\n"
   ]
  },
  {
   "cell_type": "code",
   "execution_count": 101,
   "metadata": {},
   "outputs": [
    {
     "data": {
      "text/plain": [
       "array([1, 1, 1, 1, 1, 1, 1, 1, 1, 1, 1, 1, 1, 1, 1, 1, 1, 1, 1, 1, 1, 1,\n",
       "       1, 1, 1, 1, 1, 1, 1, 1, 1, 1, 1, 1, 1, 1, 1, 1, 1, 1, 1, 1, 1, 1,\n",
       "       1, 1, 1, 1, 1, 1, 2, 2, 2, 2, 2, 2, 2, 2, 2, 2, 2, 2, 2, 2, 2, 2,\n",
       "       2, 2, 2, 2, 2, 2, 2, 2, 2, 2, 2, 2, 2, 2, 2, 2, 2, 2, 2, 2, 2, 2,\n",
       "       2, 2, 2, 2, 2, 2, 2, 2, 2, 2, 2, 2, 2, 2, 2, 2, 2, 2, 2, 2, 2, 2,\n",
       "       2, 2, 2, 2, 2, 2, 2, 2, 2, 2, 2, 2, 2, 2, 2, 2, 2, 2, 2, 2, 2, 2,\n",
       "       2, 2, 2, 2, 2, 2, 2, 2, 2, 2, 2, 2, 2, 2, 2, 2, 2, 2], dtype=int32)"
      ]
     },
     "execution_count": 101,
     "metadata": {},
     "output_type": "execute_result"
    }
   ],
   "source": [
    "clustering = fcluster(merges, 2, criterion='maxclust')\n",
    "clustering"
   ]
  },
  {
   "cell_type": "code",
   "execution_count": 76,
   "metadata": {},
   "outputs": [],
   "source": [
    "def ComputeInternalMeasures(x, merges, k_values):\n",
    "    wss_values = {}\n",
    "    bss_values = {}\n",
    "\n",
    "    for k in k_values:\n",
    "        clustering = fcluster(merges, k, criterion='maxclust')\n",
    "        centroids = [np.mean(x[clustering==c],axis=0) for c in range(1,k+1)]\n",
    "        cdist(x, centroids, 'euclidean')\n",
    "        D = cdist(x, centroids, 'euclidean')\n",
    "        cIdx = np.argmin(D,axis=1)\n",
    "        d = np.min(D,axis=1)\n",
    "\n",
    "        avgWithinSS = sum(d)/x.shape[0]\n",
    "\n",
    "        # Total with-in sum of square\n",
    "        wss = sum(d**2)\n",
    "\n",
    "        tss = sum(pdist(x)**2)/x.shape[0]\n",
    "\n",
    "        bss = tss-wss\n",
    "\n",
    "        wss_values[k] = wss\n",
    "        bss_values[k] = bss\n",
    "    return wss_values,bss_values"
   ]
  },
  {
   "cell_type": "code",
   "execution_count": 87,
   "metadata": {},
   "outputs": [],
   "source": [
    "k_values = range(1,20)\n",
    "wss_dict, bss_dict = ComputeInternalMeasures(iris.data, merges, k_values)"
   ]
  },
  {
   "cell_type": "code",
   "execution_count": 88,
   "metadata": {
    "scrolled": true
   },
   "outputs": [
    {
     "data": {
      "text/plain": [
       "({1: 681.3706000000001,\n",
       "  2: 153.35927999999998,\n",
       "  3: 115.69083518533955,\n",
       "  4: 95.69164937825487,\n",
       "  5: 81.47529038039077,\n",
       "  6: 72.91480080340267,\n",
       "  7: 70.66206402705949,\n",
       "  8: 66.05562616291535,\n",
       "  9: 65.27720766810125,\n",
       "  10: 61.69460775086295,\n",
       "  11: 59.19191362026759,\n",
       "  12: 54.37283521912166,\n",
       "  13: 50.28866579780881,\n",
       "  14: 48.05941333271888,\n",
       "  15: 47.24460497017318,\n",
       "  16: 45.72774236111112,\n",
       "  17: 45.27294572795937,\n",
       "  18: 42.22742757643001,\n",
       "  19: 38.60363069177397},\n",
       " {1: -1.7053025658242404e-12,\n",
       "  2: 528.0113199999984,\n",
       "  3: 565.6797648146588,\n",
       "  4: 585.6789506217435,\n",
       "  5: 599.8953096196076,\n",
       "  6: 608.4557991965958,\n",
       "  7: 610.7085359729389,\n",
       "  8: 615.314973837083,\n",
       "  9: 616.0933923318971,\n",
       "  10: 619.6759922491354,\n",
       "  11: 622.1786863797308,\n",
       "  12: 626.9977647808768,\n",
       "  13: 631.0819342021896,\n",
       "  14: 633.3111866672795,\n",
       "  15: 634.1259950298252,\n",
       "  16: 635.6428576388872,\n",
       "  17: 636.097654272039,\n",
       "  18: 639.1431724235683,\n",
       "  19: 642.7669693082244})"
      ]
     },
     "execution_count": 88,
     "metadata": {},
     "output_type": "execute_result"
    }
   ],
   "source": [
    "wss_dict,bss_dict"
   ]
  },
  {
   "cell_type": "code",
   "execution_count": 93,
   "metadata": {},
   "outputs": [],
   "source": [
    "wss_values = [v for v in wss_dict.values()]\n",
    "bss_values = [y for y in bss_dict.values()]"
   ]
  },
  {
   "cell_type": "code",
   "execution_count": 94,
   "metadata": {},
   "outputs": [
    {
     "data": {
      "text/plain": [
       "[-1.7053025658242404e-12,\n",
       " 528.0113199999984,\n",
       " 565.6797648146588,\n",
       " 585.6789506217435,\n",
       " 599.8953096196076,\n",
       " 608.4557991965958,\n",
       " 610.7085359729389,\n",
       " 615.314973837083,\n",
       " 616.0933923318971,\n",
       " 619.6759922491354,\n",
       " 622.1786863797308,\n",
       " 626.9977647808768,\n",
       " 631.0819342021896,\n",
       " 633.3111866672795,\n",
       " 634.1259950298252,\n",
       " 635.6428576388872,\n",
       " 636.097654272039,\n",
       " 639.1431724235683,\n",
       " 642.7669693082244]"
      ]
     },
     "execution_count": 94,
     "metadata": {},
     "output_type": "execute_result"
    }
   ],
   "source": [
    "bss_values"
   ]
  },
  {
   "cell_type": "code",
   "execution_count": 99,
   "metadata": {},
   "outputs": [
    {
     "data": {
      "image/png": "[encoded data removed]",
      "text/plain": [
       "<Figure size 576x432 with 1 Axes>"
      ]
     },
     "metadata": {
      "needs_background": "light"
     },
     "output_type": "display_data"
    }
   ],
   "source": [
    "fig = plt.figure(figsize=(8,6))\n",
    "font = {'family' : 'sans', 'size'   : 16}\n",
    "plt.rc('font', **font)\n",
    "plt.plot(k_values, wss_values, 'bo-', color='red', label='WSS')\n",
    "plt.plot(k_values, bss_values, 'bo-', color='blue', label='BSS')\n",
    "\n",
    "plt.xlabel('Number of clusters')\n",
    "plt.ylabel('BSS & WSS')\n",
    "plt.xticks(k_values)\n",
    "plt.legend()\n",
    "plt.title('Hierarchical Clustering');"
   ]
  },
  {
   "cell_type": "markdown",
   "metadata": {},
   "source": [
    "There is a clear elbow around k=2 but we cannot just select two clusters. We should use the elbow as a guide but test multiple solutions around that value. "
   ]
  },
  {
   "cell_type": "markdown",
   "metadata": {},
   "source": [
    "## External Meaures\n",
    "Let's evaluate the solution with three clusters and compute a table that report the distribution of original labels in each one of the three clusters so that we can compare the clustering solution against the known labels."
   ]
  },
  {
   "cell_type": "code",
   "execution_count": 112,
   "metadata": {},
   "outputs": [
    {
     "name": "stdout",
     "output_type": "stream",
     "text": [
      "varieties  setosa  versicolor  virginica\n",
      "labels                                  \n",
      "1               0          23         49\n",
      "2               0          27          1\n",
      "3              50           0          0\n"
     ]
    }
   ],
   "source": [
    "labels_single_k3 = fcluster(merges,3,criterion='maxclust')\n",
    "# Create a DataFrame with labels and varieties as columns: df\n",
    "df = pd.DataFrame({'labels': labels_single_k3, 'varieties': iris.target_names[target]})\n",
    "\n",
    "# Create crosstab: ct\n",
    "ct = pd.crosstab(df['labels'],df['varieties'])\n",
    "\n",
    "# Print the table\n",
    "print(ct)"
   ]
  },
  {
   "cell_type": "code",
   "execution_count": 30,
   "metadata": {},
   "outputs": [
    {
     "name": "stdout",
     "output_type": "stream",
     "text": [
      "varieties  setosa  versicolor  virginica\n",
      "labels                                  \n",
      "1              50           0          0\n",
      "2               0           0         36\n",
      "3               0           4          0\n",
      "4               0          46         14\n"
     ]
    }
   ],
   "source": [
    "labels_single_k4 = fcluster(merges,4,criterion='maxclust')\n",
    "# Create a DataFrame with labels and varieties as columns: df\n",
    "df = pd.DataFrame({'labels': labels_single_k4, 'varieties': iris.target_names[target]})\n",
    "\n",
    "# Create crosstab: ct\n",
    "ct = pd.crosstab(df['labels'],df['varieties'])\n",
    "\n",
    "# Print the table\n",
    "print(ct)"
   ]
  },
  {
   "cell_type": "markdown",
   "metadata": {},
   "source": [
    "Note that cluster 1 perfectly identifies all the examples labeled as \"setosa\", Cluster 2 contains just two examples (labeled \"virginica\"), while Cluster 3 contains all the remaining cases.\n",
    "\n",
    "What happens when we use complete linkage or average linkage?"
   ]
  },
  {
   "cell_type": "code",
   "execution_count": 111,
   "metadata": {},
   "outputs": [
    {
     "name": "stdout",
     "output_type": "stream",
     "text": [
      "class   setosa  versicolor  virginica\n",
      "labels                               \n",
      "1            0          23         49\n",
      "2            0          27          1\n",
      "3           50           0          0\n"
     ]
    }
   ],
   "source": [
    "# Repeats the analysis using complete linkage\n",
    "\n",
    "merges = linkage(iris.data, method = 'complete')\n",
    "labels = fcluster(merges,3,criterion='maxclust')\n",
    "# Create a DataFrame with labels and varieties as columns: df\n",
    "df = pd.DataFrame({'labels': labels, 'class': iris.target_names[target]})\n",
    "\n",
    "# Create crosstab: ct\n",
    "ct = pd.crosstab(df['labels'],df['class'])\n",
    "\n",
    "# Print the table\n",
    "print(ct)"
   ]
  },
  {
   "cell_type": "code",
   "execution_count": 109,
   "metadata": {},
   "outputs": [
    {
     "data": {
      "text/html": [
       "<div>\n",
       "<style scoped>\n",
       "    .dataframe tbody tr th:only-of-type {\n",
       "        vertical-align: middle;\n",
       "    }\n",
       "\n",
       "    .dataframe tbody tr th {\n",
       "        vertical-align: top;\n",
       "    }\n",
       "\n",
       "    .dataframe thead th {\n",
       "        text-align: right;\n",
       "    }\n",
       "</style>\n",
       "<table border=\"1\" class=\"dataframe\">\n",
       "  <thead>\n",
       "    <tr style=\"text-align: right;\">\n",
       "      <th>class</th>\n",
       "      <th>setosa</th>\n",
       "      <th>versicolor</th>\n",
       "      <th>virginica</th>\n",
       "    </tr>\n",
       "    <tr>\n",
       "      <th>labels</th>\n",
       "      <th></th>\n",
       "      <th></th>\n",
       "      <th></th>\n",
       "    </tr>\n",
       "  </thead>\n",
       "  <tbody>\n",
       "    <tr>\n",
       "      <th>1</th>\n",
       "      <td>50</td>\n",
       "      <td>0</td>\n",
       "      <td>0</td>\n",
       "    </tr>\n",
       "    <tr>\n",
       "      <th>2</th>\n",
       "      <td>0</td>\n",
       "      <td>0</td>\n",
       "      <td>36</td>\n",
       "    </tr>\n",
       "    <tr>\n",
       "      <th>3</th>\n",
       "      <td>0</td>\n",
       "      <td>50</td>\n",
       "      <td>14</td>\n",
       "    </tr>\n",
       "  </tbody>\n",
       "</table>\n",
       "</div>"
      ],
      "text/plain": [
       "class   setosa  versicolor  virginica\n",
       "labels                               \n",
       "1           50           0          0\n",
       "2            0           0         36\n",
       "3            0          50         14"
      ]
     },
     "execution_count": 109,
     "metadata": {},
     "output_type": "execute_result"
    }
   ],
   "source": [
    "# Repeats the analysis using average linkage\n",
    "\n",
    "merges = linkage(iris.data, method = 'average')\n",
    "labels = fcluster(merges,3,criterion='maxclust')\n",
    "# Create a DataFrame with labels and varieties as columns: df\n",
    "df = pd.DataFrame({'labels': labels, 'class': iris.target_names[target]})\n",
    "\n",
    "# Create crosstab: ct\n",
    "ct = pd.crosstab(df['labels'],df['class'])\n",
    "\n",
    "# Print the table\n",
    "ct"
   ]
  },
  {
   "cell_type": "markdown",
   "metadata": {},
   "source": [
    "## How Can We Represent Clusters?\n",
    "Hierarchical clustering produces as a result a hierarchy of partitions. Using either an internal or an external measure we can select the most appropriate number of clusters. Finally, we can assign the cluster labels to the examples. \n",
    "\n",
    "But how can we present the clusters to our customers? \n",
    "\n",
    "Hierarchical clustering produces a single column of cluster labels. But we cannot present just the labels we need to find a way to summarize the result. We need to build \"cluster personas\".\n",
    "\n",
    "Suppose that we use the last clustering obtained using <b>single linkage</b> with three and four clusters. We can generate a summary of this solution by print the average values of all the features for each cluster."
   ]
  },
  {
   "cell_type": "code",
   "execution_count": 118,
   "metadata": {},
   "outputs": [
    {
     "data": {
      "text/plain": [
       "<matplotlib.legend.Legend at 0x2613e826d68>"
      ]
     },
     "execution_count": 118,
     "metadata": {},
     "output_type": "execute_result"
    },
    {
     "data": {
      "text/plain": [
       "<Figure size 576x432 with 0 Axes>"
      ]
     },
     "metadata": {},
     "output_type": "display_data"
    },
    {
     "data": {
      "image/png": "[encoded data removed]",
      "text/plain": [
       "<Figure size 432x288 with 1 Axes>"
      ]
     },
     "metadata": {
      "needs_background": "light"
     },
     "output_type": "display_data"
    }
   ],
   "source": [
    "df_iris = pd.DataFrame(iris.data,columns=iris.feature_names)\n",
    "df_iris['cluster']=labels_single_k3\n",
    "fig = plt.figure(figsize=(8,6))\n",
    "df_iris_groupby=df_iris.groupby('cluster').mean()\n",
    "df_iris_groupby.plot(kind=\"bar\")\n",
    "plt.legend(loc='upper right',bbox_to_anchor=(1.7, 1.1))"
   ]
  },
  {
   "cell_type": "code",
   "execution_count": 119,
   "metadata": {},
   "outputs": [
    {
     "ename": "NameError",
     "evalue": "name 'labels_single_k4' is not defined",
     "output_type": "error",
     "traceback": [
      "\u001b[1;31m---------------------------------------------------------------------------\u001b[0m",
      "\u001b[1;31mNameError\u001b[0m                                 Traceback (most recent call last)",
      "\u001b[1;32m<ipython-input-119-660dd1b1085a>\u001b[0m in \u001b[0;36m<module>\u001b[1;34m\u001b[0m\n\u001b[0;32m      1\u001b[0m \u001b[0mdf_iris\u001b[0m \u001b[1;33m=\u001b[0m \u001b[0mpd\u001b[0m\u001b[1;33m.\u001b[0m\u001b[0mDataFrame\u001b[0m\u001b[1;33m(\u001b[0m\u001b[0miris\u001b[0m\u001b[1;33m.\u001b[0m\u001b[0mdata\u001b[0m\u001b[1;33m,\u001b[0m\u001b[0mcolumns\u001b[0m\u001b[1;33m=\u001b[0m\u001b[0miris\u001b[0m\u001b[1;33m.\u001b[0m\u001b[0mfeature_names\u001b[0m\u001b[1;33m)\u001b[0m\u001b[1;33m\u001b[0m\u001b[1;33m\u001b[0m\u001b[0m\n\u001b[1;32m----> 2\u001b[1;33m \u001b[0mdf_iris\u001b[0m\u001b[1;33m[\u001b[0m\u001b[1;34m'cluster'\u001b[0m\u001b[1;33m]\u001b[0m\u001b[1;33m=\u001b[0m\u001b[0mlabels_single_k4\u001b[0m\u001b[1;33m\u001b[0m\u001b[1;33m\u001b[0m\u001b[0m\n\u001b[0m\u001b[0;32m      3\u001b[0m \u001b[0mdf_iris\u001b[0m\u001b[1;33m.\u001b[0m\u001b[0mgroupby\u001b[0m\u001b[1;33m(\u001b[0m\u001b[1;34m'cluster'\u001b[0m\u001b[1;33m)\u001b[0m\u001b[1;33m.\u001b[0m\u001b[0mmean\u001b[0m\u001b[1;33m(\u001b[0m\u001b[1;33m)\u001b[0m\u001b[1;33m\u001b[0m\u001b[1;33m\u001b[0m\u001b[0m\n",
      "\u001b[1;31mNameError\u001b[0m: name 'labels_single_k4' is not defined"
     ]
    }
   ],
   "source": [
    "df_iris = pd.DataFrame(iris.data,columns=iris.feature_names)\n",
    "df_iris['cluster']=labels_single_k4\n",
    "df_iris.groupby('cluster').mean()"
   ]
  },
  {
   "cell_type": "markdown",
   "metadata": {},
   "source": [
    "Given the statistics, we need to build a narrative that can characterize the clustering solution we selected. Such narrative is typically created using \"cluster personas\", profiles that describe the main features of the clusters."
   ]
  },
  {
   "cell_type": "markdown",
   "metadata": {},
   "source": [
    "## Snake Plots\n",
    "These are market research techniques used to compare different segments. They provide a visual representation of each segment attributes. First, the data are normalized (according to the mean and the standard deviation) then we plot each cluster's average normalized values of each attribute."
   ]
  },
  {
   "cell_type": "code",
   "execution_count": 121,
   "metadata": {},
   "outputs": [],
   "source": [
    "from sklearn.preprocessing import StandardScaler\n",
    "scaler = StandardScaler()\n",
    "\n",
    "normalized_iris = scaler.fit_transform(iris.data)\n",
    "df_iris_normalized = pd.DataFrame(normalized_iris,columns=iris.feature_names)\n",
    "df_iris_normalized['cluster'] = labels_single_k3"
   ]
  },
  {
   "cell_type": "code",
   "execution_count": 126,
   "metadata": {},
   "outputs": [
    {
     "data": {
      "text/html": [
       "<div>\n",
       "<style scoped>\n",
       "    .dataframe tbody tr th:only-of-type {\n",
       "        vertical-align: middle;\n",
       "    }\n",
       "\n",
       "    .dataframe tbody tr th {\n",
       "        vertical-align: top;\n",
       "    }\n",
       "\n",
       "    .dataframe thead th {\n",
       "        text-align: right;\n",
       "    }\n",
       "</style>\n",
       "<table border=\"1\" class=\"dataframe\">\n",
       "  <thead>\n",
       "    <tr style=\"text-align: right;\">\n",
       "      <th></th>\n",
       "      <th>cluster</th>\n",
       "      <th>Attribute</th>\n",
       "      <th>Value</th>\n",
       "    </tr>\n",
       "  </thead>\n",
       "  <tbody>\n",
       "    <tr>\n",
       "      <th>0</th>\n",
       "      <td>3</td>\n",
       "      <td>sepal length (cm)</td>\n",
       "      <td>-0.900681</td>\n",
       "    </tr>\n",
       "    <tr>\n",
       "      <th>1</th>\n",
       "      <td>3</td>\n",
       "      <td>sepal length (cm)</td>\n",
       "      <td>-1.143017</td>\n",
       "    </tr>\n",
       "    <tr>\n",
       "      <th>2</th>\n",
       "      <td>3</td>\n",
       "      <td>sepal length (cm)</td>\n",
       "      <td>-1.385353</td>\n",
       "    </tr>\n",
       "    <tr>\n",
       "      <th>3</th>\n",
       "      <td>3</td>\n",
       "      <td>sepal length (cm)</td>\n",
       "      <td>-1.506521</td>\n",
       "    </tr>\n",
       "    <tr>\n",
       "      <th>4</th>\n",
       "      <td>3</td>\n",
       "      <td>sepal length (cm)</td>\n",
       "      <td>-1.021849</td>\n",
       "    </tr>\n",
       "    <tr>\n",
       "      <th>5</th>\n",
       "      <td>3</td>\n",
       "      <td>sepal length (cm)</td>\n",
       "      <td>-0.537178</td>\n",
       "    </tr>\n",
       "    <tr>\n",
       "      <th>6</th>\n",
       "      <td>3</td>\n",
       "      <td>sepal length (cm)</td>\n",
       "      <td>-1.506521</td>\n",
       "    </tr>\n",
       "    <tr>\n",
       "      <th>7</th>\n",
       "      <td>3</td>\n",
       "      <td>sepal length (cm)</td>\n",
       "      <td>-1.021849</td>\n",
       "    </tr>\n",
       "    <tr>\n",
       "      <th>8</th>\n",
       "      <td>3</td>\n",
       "      <td>sepal length (cm)</td>\n",
       "      <td>-1.748856</td>\n",
       "    </tr>\n",
       "    <tr>\n",
       "      <th>9</th>\n",
       "      <td>3</td>\n",
       "      <td>sepal length (cm)</td>\n",
       "      <td>-1.143017</td>\n",
       "    </tr>\n",
       "    <tr>\n",
       "      <th>10</th>\n",
       "      <td>3</td>\n",
       "      <td>sepal length (cm)</td>\n",
       "      <td>-0.537178</td>\n",
       "    </tr>\n",
       "    <tr>\n",
       "      <th>11</th>\n",
       "      <td>3</td>\n",
       "      <td>sepal length (cm)</td>\n",
       "      <td>-1.264185</td>\n",
       "    </tr>\n",
       "    <tr>\n",
       "      <th>12</th>\n",
       "      <td>3</td>\n",
       "      <td>sepal length (cm)</td>\n",
       "      <td>-1.264185</td>\n",
       "    </tr>\n",
       "    <tr>\n",
       "      <th>13</th>\n",
       "      <td>3</td>\n",
       "      <td>sepal length (cm)</td>\n",
       "      <td>-1.870024</td>\n",
       "    </tr>\n",
       "    <tr>\n",
       "      <th>14</th>\n",
       "      <td>3</td>\n",
       "      <td>sepal length (cm)</td>\n",
       "      <td>-0.052506</td>\n",
       "    </tr>\n",
       "    <tr>\n",
       "      <th>15</th>\n",
       "      <td>3</td>\n",
       "      <td>sepal length (cm)</td>\n",
       "      <td>-0.173674</td>\n",
       "    </tr>\n",
       "    <tr>\n",
       "      <th>16</th>\n",
       "      <td>3</td>\n",
       "      <td>sepal length (cm)</td>\n",
       "      <td>-0.537178</td>\n",
       "    </tr>\n",
       "    <tr>\n",
       "      <th>17</th>\n",
       "      <td>3</td>\n",
       "      <td>sepal length (cm)</td>\n",
       "      <td>-0.900681</td>\n",
       "    </tr>\n",
       "    <tr>\n",
       "      <th>18</th>\n",
       "      <td>3</td>\n",
       "      <td>sepal length (cm)</td>\n",
       "      <td>-0.173674</td>\n",
       "    </tr>\n",
       "    <tr>\n",
       "      <th>19</th>\n",
       "      <td>3</td>\n",
       "      <td>sepal length (cm)</td>\n",
       "      <td>-0.900681</td>\n",
       "    </tr>\n",
       "    <tr>\n",
       "      <th>20</th>\n",
       "      <td>3</td>\n",
       "      <td>sepal length (cm)</td>\n",
       "      <td>-0.537178</td>\n",
       "    </tr>\n",
       "    <tr>\n",
       "      <th>21</th>\n",
       "      <td>3</td>\n",
       "      <td>sepal length (cm)</td>\n",
       "      <td>-0.900681</td>\n",
       "    </tr>\n",
       "    <tr>\n",
       "      <th>22</th>\n",
       "      <td>3</td>\n",
       "      <td>sepal length (cm)</td>\n",
       "      <td>-1.506521</td>\n",
       "    </tr>\n",
       "    <tr>\n",
       "      <th>23</th>\n",
       "      <td>3</td>\n",
       "      <td>sepal length (cm)</td>\n",
       "      <td>-0.900681</td>\n",
       "    </tr>\n",
       "    <tr>\n",
       "      <th>24</th>\n",
       "      <td>3</td>\n",
       "      <td>sepal length (cm)</td>\n",
       "      <td>-1.264185</td>\n",
       "    </tr>\n",
       "    <tr>\n",
       "      <th>25</th>\n",
       "      <td>3</td>\n",
       "      <td>sepal length (cm)</td>\n",
       "      <td>-1.021849</td>\n",
       "    </tr>\n",
       "    <tr>\n",
       "      <th>26</th>\n",
       "      <td>3</td>\n",
       "      <td>sepal length (cm)</td>\n",
       "      <td>-1.021849</td>\n",
       "    </tr>\n",
       "    <tr>\n",
       "      <th>27</th>\n",
       "      <td>3</td>\n",
       "      <td>sepal length (cm)</td>\n",
       "      <td>-0.779513</td>\n",
       "    </tr>\n",
       "    <tr>\n",
       "      <th>28</th>\n",
       "      <td>3</td>\n",
       "      <td>sepal length (cm)</td>\n",
       "      <td>-0.779513</td>\n",
       "    </tr>\n",
       "    <tr>\n",
       "      <th>29</th>\n",
       "      <td>3</td>\n",
       "      <td>sepal length (cm)</td>\n",
       "      <td>-1.385353</td>\n",
       "    </tr>\n",
       "    <tr>\n",
       "      <th>...</th>\n",
       "      <td>...</td>\n",
       "      <td>...</td>\n",
       "      <td>...</td>\n",
       "    </tr>\n",
       "    <tr>\n",
       "      <th>570</th>\n",
       "      <td>1</td>\n",
       "      <td>petal width (cm)</td>\n",
       "      <td>1.448832</td>\n",
       "    </tr>\n",
       "    <tr>\n",
       "      <th>571</th>\n",
       "      <td>1</td>\n",
       "      <td>petal width (cm)</td>\n",
       "      <td>1.053935</td>\n",
       "    </tr>\n",
       "    <tr>\n",
       "      <th>572</th>\n",
       "      <td>1</td>\n",
       "      <td>petal width (cm)</td>\n",
       "      <td>1.053935</td>\n",
       "    </tr>\n",
       "    <tr>\n",
       "      <th>573</th>\n",
       "      <td>1</td>\n",
       "      <td>petal width (cm)</td>\n",
       "      <td>0.790671</td>\n",
       "    </tr>\n",
       "    <tr>\n",
       "      <th>574</th>\n",
       "      <td>1</td>\n",
       "      <td>petal width (cm)</td>\n",
       "      <td>1.185567</td>\n",
       "    </tr>\n",
       "    <tr>\n",
       "      <th>575</th>\n",
       "      <td>1</td>\n",
       "      <td>petal width (cm)</td>\n",
       "      <td>0.790671</td>\n",
       "    </tr>\n",
       "    <tr>\n",
       "      <th>576</th>\n",
       "      <td>1</td>\n",
       "      <td>petal width (cm)</td>\n",
       "      <td>0.790671</td>\n",
       "    </tr>\n",
       "    <tr>\n",
       "      <th>577</th>\n",
       "      <td>1</td>\n",
       "      <td>petal width (cm)</td>\n",
       "      <td>0.790671</td>\n",
       "    </tr>\n",
       "    <tr>\n",
       "      <th>578</th>\n",
       "      <td>1</td>\n",
       "      <td>petal width (cm)</td>\n",
       "      <td>1.185567</td>\n",
       "    </tr>\n",
       "    <tr>\n",
       "      <th>579</th>\n",
       "      <td>1</td>\n",
       "      <td>petal width (cm)</td>\n",
       "      <td>0.527406</td>\n",
       "    </tr>\n",
       "    <tr>\n",
       "      <th>580</th>\n",
       "      <td>1</td>\n",
       "      <td>petal width (cm)</td>\n",
       "      <td>0.922303</td>\n",
       "    </tr>\n",
       "    <tr>\n",
       "      <th>581</th>\n",
       "      <td>1</td>\n",
       "      <td>petal width (cm)</td>\n",
       "      <td>1.053935</td>\n",
       "    </tr>\n",
       "    <tr>\n",
       "      <th>582</th>\n",
       "      <td>1</td>\n",
       "      <td>petal width (cm)</td>\n",
       "      <td>1.317199</td>\n",
       "    </tr>\n",
       "    <tr>\n",
       "      <th>583</th>\n",
       "      <td>1</td>\n",
       "      <td>petal width (cm)</td>\n",
       "      <td>0.395774</td>\n",
       "    </tr>\n",
       "    <tr>\n",
       "      <th>584</th>\n",
       "      <td>1</td>\n",
       "      <td>petal width (cm)</td>\n",
       "      <td>0.264142</td>\n",
       "    </tr>\n",
       "    <tr>\n",
       "      <th>585</th>\n",
       "      <td>1</td>\n",
       "      <td>petal width (cm)</td>\n",
       "      <td>1.448832</td>\n",
       "    </tr>\n",
       "    <tr>\n",
       "      <th>586</th>\n",
       "      <td>1</td>\n",
       "      <td>petal width (cm)</td>\n",
       "      <td>1.580464</td>\n",
       "    </tr>\n",
       "    <tr>\n",
       "      <th>587</th>\n",
       "      <td>1</td>\n",
       "      <td>petal width (cm)</td>\n",
       "      <td>0.790671</td>\n",
       "    </tr>\n",
       "    <tr>\n",
       "      <th>588</th>\n",
       "      <td>1</td>\n",
       "      <td>petal width (cm)</td>\n",
       "      <td>0.790671</td>\n",
       "    </tr>\n",
       "    <tr>\n",
       "      <th>589</th>\n",
       "      <td>1</td>\n",
       "      <td>petal width (cm)</td>\n",
       "      <td>1.185567</td>\n",
       "    </tr>\n",
       "    <tr>\n",
       "      <th>590</th>\n",
       "      <td>1</td>\n",
       "      <td>petal width (cm)</td>\n",
       "      <td>1.580464</td>\n",
       "    </tr>\n",
       "    <tr>\n",
       "      <th>591</th>\n",
       "      <td>1</td>\n",
       "      <td>petal width (cm)</td>\n",
       "      <td>1.448832</td>\n",
       "    </tr>\n",
       "    <tr>\n",
       "      <th>592</th>\n",
       "      <td>1</td>\n",
       "      <td>petal width (cm)</td>\n",
       "      <td>0.922303</td>\n",
       "    </tr>\n",
       "    <tr>\n",
       "      <th>593</th>\n",
       "      <td>1</td>\n",
       "      <td>petal width (cm)</td>\n",
       "      <td>1.448832</td>\n",
       "    </tr>\n",
       "    <tr>\n",
       "      <th>594</th>\n",
       "      <td>1</td>\n",
       "      <td>petal width (cm)</td>\n",
       "      <td>1.712096</td>\n",
       "    </tr>\n",
       "    <tr>\n",
       "      <th>595</th>\n",
       "      <td>1</td>\n",
       "      <td>petal width (cm)</td>\n",
       "      <td>1.448832</td>\n",
       "    </tr>\n",
       "    <tr>\n",
       "      <th>596</th>\n",
       "      <td>1</td>\n",
       "      <td>petal width (cm)</td>\n",
       "      <td>0.922303</td>\n",
       "    </tr>\n",
       "    <tr>\n",
       "      <th>597</th>\n",
       "      <td>1</td>\n",
       "      <td>petal width (cm)</td>\n",
       "      <td>1.053935</td>\n",
       "    </tr>\n",
       "    <tr>\n",
       "      <th>598</th>\n",
       "      <td>1</td>\n",
       "      <td>petal width (cm)</td>\n",
       "      <td>1.448832</td>\n",
       "    </tr>\n",
       "    <tr>\n",
       "      <th>599</th>\n",
       "      <td>1</td>\n",
       "      <td>petal width (cm)</td>\n",
       "      <td>0.790671</td>\n",
       "    </tr>\n",
       "  </tbody>\n",
       "</table>\n",
       "<p>600 rows × 3 columns</p>\n",
       "</div>"
      ],
      "text/plain": [
       "     cluster          Attribute     Value\n",
       "0          3  sepal length (cm) -0.900681\n",
       "1          3  sepal length (cm) -1.143017\n",
       "2          3  sepal length (cm) -1.385353\n",
       "3          3  sepal length (cm) -1.506521\n",
       "4          3  sepal length (cm) -1.021849\n",
       "5          3  sepal length (cm) -0.537178\n",
       "6          3  sepal length (cm) -1.506521\n",
       "7          3  sepal length (cm) -1.021849\n",
       "8          3  sepal length (cm) -1.748856\n",
       "9          3  sepal length (cm) -1.143017\n",
       "10         3  sepal length (cm) -0.537178\n",
       "11         3  sepal length (cm) -1.264185\n",
       "12         3  sepal length (cm) -1.264185\n",
       "13         3  sepal length (cm) -1.870024\n",
       "14         3  sepal length (cm) -0.052506\n",
       "15         3  sepal length (cm) -0.173674\n",
       "16         3  sepal length (cm) -0.537178\n",
       "17         3  sepal length (cm) -0.900681\n",
       "18         3  sepal length (cm) -0.173674\n",
       "19         3  sepal length (cm) -0.900681\n",
       "20         3  sepal length (cm) -0.537178\n",
       "21         3  sepal length (cm) -0.900681\n",
       "22         3  sepal length (cm) -1.506521\n",
       "23         3  sepal length (cm) -0.900681\n",
       "24         3  sepal length (cm) -1.264185\n",
       "25         3  sepal length (cm) -1.021849\n",
       "26         3  sepal length (cm) -1.021849\n",
       "27         3  sepal length (cm) -0.779513\n",
       "28         3  sepal length (cm) -0.779513\n",
       "29         3  sepal length (cm) -1.385353\n",
       "..       ...                ...       ...\n",
       "570        1   petal width (cm)  1.448832\n",
       "571        1   petal width (cm)  1.053935\n",
       "572        1   petal width (cm)  1.053935\n",
       "573        1   petal width (cm)  0.790671\n",
       "574        1   petal width (cm)  1.185567\n",
       "575        1   petal width (cm)  0.790671\n",
       "576        1   petal width (cm)  0.790671\n",
       "577        1   petal width (cm)  0.790671\n",
       "578        1   petal width (cm)  1.185567\n",
       "579        1   petal width (cm)  0.527406\n",
       "580        1   petal width (cm)  0.922303\n",
       "581        1   petal width (cm)  1.053935\n",
       "582        1   petal width (cm)  1.317199\n",
       "583        1   petal width (cm)  0.395774\n",
       "584        1   petal width (cm)  0.264142\n",
       "585        1   petal width (cm)  1.448832\n",
       "586        1   petal width (cm)  1.580464\n",
       "587        1   petal width (cm)  0.790671\n",
       "588        1   petal width (cm)  0.790671\n",
       "589        1   petal width (cm)  1.185567\n",
       "590        1   petal width (cm)  1.580464\n",
       "591        1   petal width (cm)  1.448832\n",
       "592        1   petal width (cm)  0.922303\n",
       "593        1   petal width (cm)  1.448832\n",
       "594        1   petal width (cm)  1.712096\n",
       "595        1   petal width (cm)  1.448832\n",
       "596        1   petal width (cm)  0.922303\n",
       "597        1   petal width (cm)  1.053935\n",
       "598        1   petal width (cm)  1.448832\n",
       "599        1   petal width (cm)  0.790671\n",
       "\n",
       "[600 rows x 3 columns]"
      ]
     },
     "execution_count": 126,
     "metadata": {},
     "output_type": "execute_result"
    }
   ],
   "source": [
    "df_iris_melt = pd.melt(df_iris_normalized, \n",
    "                    id_vars=['cluster'],\n",
    "                    value_vars=iris.feature_names, \n",
    "                    var_name='Attribute', \n",
    "                    value_name='Value')\n"
   ]
  },
  {
   "cell_type": "code",
   "execution_count": 59,
   "metadata": {},
   "outputs": [],
   "source": [
    "import seaborn as sns"
   ]
  },
  {
   "cell_type": "code",
   "execution_count": 60,
   "metadata": {},
   "outputs": [
    {
     "data": {
      "text/plain": [
       "<matplotlib.legend.Legend at 0x1a256e5978>"
      ]
     },
     "execution_count": 60,
     "metadata": {},
     "output_type": "execute_result"
    },
    {
     "data": {
      "image/png": "[encoded data removed]",
      "text/plain": [
       "<Figure size 864x576 with 1 Axes>"
      ]
     },
     "metadata": {},
     "output_type": "display_data"
    }
   ],
   "source": [
    "plt.title('Snake plot of standardized variables')\n",
    "sns.set(rc={'figure.figsize':(12,8)})\n",
    "sns.set(font_scale = 1.5)\n",
    "sns.lineplot(x=\"Attribute\", y=\"Value\", hue='cluster', data=df_iris_melt)\n",
    "plt.legend(loc='center right', bbox_to_anchor=(1.25, 0.5), ncol=1)"
   ]
  }
 ],
 "metadata": {
  "kernelspec": {
   "display_name": "Python 3",
   "language": "python",
   "name": "python3"
  },
  "language_info": {
   "codemirror_mode": {
    "name": "ipython",
    "version": 3
   },
   "file_extension": ".py",
   "mimetype": "text/x-python",
   "name": "python",
   "nbconvert_exporter": "python",
   "pygments_lexer": "ipython3",
   "version": "3.7.1"
  }
 },
 "nbformat": 4,
 "nbformat_minor": 2
}
